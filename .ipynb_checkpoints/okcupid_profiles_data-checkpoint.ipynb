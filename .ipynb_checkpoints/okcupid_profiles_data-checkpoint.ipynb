{
 "cells": [
  {
   "cell_type": "code",
   "execution_count": null,
   "id": "ab5ec087",
   "metadata": {
    "scrolled": false
   },
   "outputs": [],
   "source": [
    "import pandas as pd\n",
    "\n",
    "df = pd.read_csv('okcupid_profiles.csv')\n",
    "\n",
    "df"
   ]
  },
  {
   "cell_type": "code",
   "execution_count": null,
   "id": "b53da44a",
   "metadata": {},
   "outputs": [],
   "source": [
    "# list of all columns\n",
    "for index, row in df.iterrows():\n",
    "    print(index,row['income'])"
   ]
  },
  {
   "cell_type": "code",
   "execution_count": null,
   "id": "c1d50932",
   "metadata": {
    "scrolled": false
   },
   "outputs": [],
   "source": [
    "employed_males_df = df[(df['sex'] == 'm') & (df['income'] > -1)]\n",
    "employed_males_df"
   ]
  },
  {
   "cell_type": "code",
   "execution_count": null,
   "id": "ee2f32a4",
   "metadata": {
    "scrolled": true
   },
   "outputs": [],
   "source": [
    "list(employed_males_df.columns)"
   ]
  },
  {
   "cell_type": "code",
   "execution_count": null,
   "id": "c0047111",
   "metadata": {},
   "outputs": [],
   "source": [
    "len(employed_males_df.columns)"
   ]
  },
  {
   "cell_type": "code",
   "execution_count": null,
   "id": "374392ed",
   "metadata": {},
   "outputs": [],
   "source": [
    "employed_males_df['income']"
   ]
  },
  {
   "cell_type": "code",
   "execution_count": null,
   "id": "0f0b4e68",
   "metadata": {},
   "outputs": [],
   "source": [
    "# pulling avg age of males\n",
    "employed_males_df['age'].mean()"
   ]
  },
  {
   "cell_type": "code",
   "execution_count": null,
   "id": "b2a5bab0",
   "metadata": {
    "scrolled": true
   },
   "outputs": [],
   "source": [
    "employed_males_df['income']"
   ]
  },
  {
   "cell_type": "code",
   "execution_count": null,
   "id": "37de767b",
   "metadata": {
    "scrolled": true
   },
   "outputs": [],
   "source": [
    "employed_males_df"
   ]
  },
  {
   "cell_type": "code",
   "execution_count": null,
   "id": "f5f2f611",
   "metadata": {},
   "outputs": [],
   "source": [
    "employed_males_df.to_excel('employed_males_df.xlsx')\n",
    "employed_males_df.to_csv('employed_males_df.csv', index=False)"
   ]
  },
  {
   "cell_type": "code",
   "execution_count": null,
   "id": "a21d6b8b",
   "metadata": {
    "scrolled": false
   },
   "outputs": [],
   "source": [
    "# adding age combined, age average, income combined, income age columns\n",
    "employed_males_df['age combined'] = employed_males_df['age'].sum()"
   ]
  },
  {
   "cell_type": "code",
   "execution_count": null,
   "id": "b85c836a",
   "metadata": {
    "scrolled": true
   },
   "outputs": [],
   "source": [
    "employed_males_df"
   ]
  },
  {
   "cell_type": "code",
   "execution_count": null,
   "id": "984b21c1",
   "metadata": {
    "scrolled": true
   },
   "outputs": [],
   "source": [
    "employed_males_df['age combined'][1:59943] = ''"
   ]
  },
  {
   "cell_type": "code",
   "execution_count": null,
   "id": "47d25841",
   "metadata": {
    "scrolled": true
   },
   "outputs": [],
   "source": [
    "employed_males_df"
   ]
  },
  {
   "cell_type": "code",
   "execution_count": null,
   "id": "f003f064",
   "metadata": {},
   "outputs": [],
   "source": [
    "employed_males_df['age average'] = employed_males_df['age'].mean()"
   ]
  },
  {
   "cell_type": "code",
   "execution_count": null,
   "id": "cb6e73d9",
   "metadata": {
    "scrolled": true
   },
   "outputs": [],
   "source": [
    "employed_males_df"
   ]
  },
  {
   "cell_type": "code",
   "execution_count": null,
   "id": "02f04abe",
   "metadata": {
    "scrolled": true
   },
   "outputs": [],
   "source": [
    "employed_males_df['age average'][1:59943] = ''\n",
    "employed_males_df"
   ]
  },
  {
   "cell_type": "code",
   "execution_count": null,
   "id": "a0b6a91c",
   "metadata": {
    "scrolled": true
   },
   "outputs": [],
   "source": [
    "employed_males_df['income combined'] = employed_males_df['income'].sum()\n",
    "employed_males_df['income combined'][1:59943] = ''\n",
    "employed_males_df"
   ]
  },
  {
   "cell_type": "code",
   "execution_count": null,
   "id": "ff54d3d1",
   "metadata": {
    "scrolled": true
   },
   "outputs": [],
   "source": [
    "employed_males_df['income average'] = employed_males_df['income'].mean()\n",
    "employed_males_df['income average'][1:59943] = ''\n",
    "employed_males_df"
   ]
  },
  {
   "cell_type": "code",
   "execution_count": null,
   "id": "8594fb80",
   "metadata": {},
   "outputs": [],
   "source": [
    "employed_males_df.to_excel('employed_males_df.xlsx')\n",
    "employed_males_df.to_csv('employed_males_df.csv', index=False)"
   ]
  },
  {
   "cell_type": "code",
   "execution_count": null,
   "id": "87bec68c",
   "metadata": {
    "scrolled": false
   },
   "outputs": [],
   "source": [
    "# creating pivot tables (cannot create a pivot due to duplicate values hence creating pivot tables only)\n",
    "orientation_income_pivot_table_df = employed_males_df.pivot_table(index='age', columns='orientation', values='income', aggfunc='sum')"
   ]
  },
  {
   "cell_type": "code",
   "execution_count": null,
   "id": "0827d884",
   "metadata": {
    "scrolled": true
   },
   "outputs": [],
   "source": [
    "# income combined per age and orientation\n",
    "orientation_income_pivot_table_df"
   ]
  },
  {
   "cell_type": "code",
   "execution_count": null,
   "id": "5e05debb",
   "metadata": {},
   "outputs": [],
   "source": [
    "orientation_income_pivot_table_df.to_excel('orientation_income_pivot_table_df.xlsx')\n",
    "orientation_income_pivot_table_df.to_csv('orientation_income_pivot_table_df.csv', index=False)"
   ]
  },
  {
   "cell_type": "code",
   "execution_count": null,
   "id": "9a265f81",
   "metadata": {},
   "outputs": [],
   "source": [
    "# creating pivot tables (cannot create a pivot due to duplicate values hence creating pivot tables only)\n",
    "orientation_average_income_pivot_table_df = employed_males_df.pivot_table(index='age', columns='orientation', values='income', aggfunc='mean')"
   ]
  },
  {
   "cell_type": "code",
   "execution_count": null,
   "id": "0b4b8eb9",
   "metadata": {
    "scrolled": true
   },
   "outputs": [],
   "source": [
    "orientation_average_income_pivot_table_df"
   ]
  },
  {
   "cell_type": "code",
   "execution_count": null,
   "id": "88fe3073",
   "metadata": {},
   "outputs": [],
   "source": [
    "orientation_average_income_pivot_table_df.to_excel('orientation_average_income_pivot_table_df.xlsx')\n",
    "orientation_average_income_pivot_table_df.to_csv('orientation_average_income_pivot_table_df.csv', index=False)"
   ]
  },
  {
   "cell_type": "code",
   "execution_count": null,
   "id": "238742dd",
   "metadata": {
    "scrolled": true
   },
   "outputs": [],
   "source": [
    "orientation_income_pivot_table_df"
   ]
  },
  {
   "cell_type": "code",
   "execution_count": null,
   "id": "8def362a",
   "metadata": {},
   "outputs": [],
   "source": [
    "# merging combined income table with average income table pertaining to orientation\n",
    "orientation_income_tables_merged_df = orientation_income_pivot_table_df.merge(orientation_average_income_pivot_table_df, left_index=True, right_index=True)"
   ]
  },
  {
   "cell_type": "code",
   "execution_count": null,
   "id": "9cdb523d",
   "metadata": {
    "scrolled": false
   },
   "outputs": [],
   "source": [
    "orientation_income_tables_merged_df"
   ]
  },
  {
   "cell_type": "code",
   "execution_count": null,
   "id": "4da28039",
   "metadata": {},
   "outputs": [],
   "source": [
    "orientation_income_tables_merged_df.to_excel('orientation_income_tables_merged_df.xlsx')\n",
    "orientation_income_tables_merged_df.to_csv('orientation_income_tables_merged_df.csv')\n"
   ]
  },
  {
   "cell_type": "code",
   "execution_count": null,
   "id": "fedc913c",
   "metadata": {},
   "outputs": [],
   "source": [
    "df"
   ]
  },
  {
   "cell_type": "code",
   "execution_count": null,
   "id": "200ba50a",
   "metadata": {},
   "outputs": [],
   "source": [
    "# next task, to create a df of people of color 'poc' who are single and educated\n",
    "single_educated_poc_df = df[~(df['ethnicity'].str.contains('white') | df['ethnicity'].isna()) & (df['status'] == 'single') & (df['education'].str.contains('(?i)graduated'))]"
   ]
  },
  {
   "cell_type": "code",
   "execution_count": null,
   "id": "00023b1f",
   "metadata": {
    "scrolled": true
   },
   "outputs": [],
   "source": [
    "single_educated_poc_df"
   ]
  },
  {
   "cell_type": "code",
   "execution_count": null,
   "id": "240379db",
   "metadata": {},
   "outputs": [],
   "source": [
    "single_educated_poc_df.to_excel('single_educated_poc_df.xlsx')\n",
    "single_educated_poc_df.to_csv('single_educated_poc_df.csv', index=False)"
   ]
  },
  {
   "cell_type": "code",
   "execution_count": null,
   "id": "c39f6192",
   "metadata": {
    "scrolled": false
   },
   "outputs": [],
   "source": [
    "single_educated_poc_df"
   ]
  },
  {
   "cell_type": "code",
   "execution_count": null,
   "id": "5993d7e9",
   "metadata": {
    "scrolled": false
   },
   "outputs": [],
   "source": [
    "# grouped data based on age, and drug \n",
    "single_educated_poc_age_drugs_df = single_educated_poc_df.groupby(['age', 'drugs', ])"
   ]
  },
  {
   "cell_type": "code",
   "execution_count": null,
   "id": "9c4b37ca",
   "metadata": {},
   "outputs": [],
   "source": [
    "single_educated_poc_grouped_data = single_educated_poc_age_drugs_df.first()"
   ]
  },
  {
   "cell_type": "code",
   "execution_count": null,
   "id": "f3a5ddc6",
   "metadata": {
    "scrolled": false
   },
   "outputs": [],
   "source": [
    "single_educated_poc_grouped_data"
   ]
  },
  {
   "cell_type": "code",
   "execution_count": null,
   "id": "6b6adc59",
   "metadata": {},
   "outputs": [],
   "source": [
    "single_educated_poc_grouped_data.to_excel('single_educated_poc_grouped_data.xlsx')\n",
    "single_educated_poc_grouped_data.to_csv('single_educated_poc_grouped_data.csv', index=False)"
   ]
  },
  {
   "cell_type": "code",
   "execution_count": null,
   "id": "645ed4e3",
   "metadata": {},
   "outputs": [],
   "source": []
  },
  {
   "cell_type": "code",
   "execution_count": null,
   "id": "8f1b4988",
   "metadata": {},
   "outputs": [],
   "source": []
  }
 ],
 "metadata": {
  "kernelspec": {
   "display_name": "Python 3 (ipykernel)",
   "language": "python",
   "name": "python3"
  },
  "language_info": {
   "codemirror_mode": {
    "name": "ipython",
    "version": 3
   },
   "file_extension": ".py",
   "mimetype": "text/x-python",
   "name": "python",
   "nbconvert_exporter": "python",
   "pygments_lexer": "ipython3",
   "version": "3.11.4"
  }
 },
 "nbformat": 4,
 "nbformat_minor": 5
}
